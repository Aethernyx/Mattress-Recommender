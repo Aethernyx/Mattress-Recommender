{
 "cells": [
  {
   "cell_type": "code",
   "execution_count": 26,
   "metadata": {},
   "outputs": [
    {
     "name": "stderr",
     "output_type": "stream",
     "text": [
      "[nltk_data] Downloading package wordnet to /Users/alex/nltk_data...\n",
      "[nltk_data]   Package wordnet is already up-to-date!\n"
     ]
    }
   ],
   "source": [
    "import pandas as pd\n",
    "import numpy as np\n",
    "import re\n",
    "import nltk\n",
    "from nltk.corpus import stopwords\n",
    "from sklearn.feature_extraction.text import CountVectorizer\n",
    "import string\n",
    "from nltk.stem import LancasterStemmer\n",
    "from nltk.stem import WordNetLemmatizer\n",
    "nltk.download('wordnet')\n",
    "import matplotlib.pyplot as plt\n",
    "import seaborn as sns\n",
    "sns.set_style('darkgrid')\n",
    "from textblob import TextBlob\n",
    "import json\n",
    "import plotly.express as px"
   ]
  },
  {
   "cell_type": "code",
   "execution_count": 14,
   "metadata": {},
   "outputs": [],
   "source": [
    "with open('gz_2010_us_040_00_500k.json') as f:\n",
    "    geo_json = json.load(f)"
   ]
  },
  {
   "cell_type": "code",
   "execution_count": 59,
   "metadata": {},
   "outputs": [],
   "source": [
    "states_abbreviation = {\n",
    "    'AL': 'ALABAMA', 'AK': 'ALASKA', 'AZ': 'ARIZONA', 'CA': 'CALIFORNIA', 'CO': 'COLORADO',\n",
    "    'CT': 'CONNECTICUT', 'DE': 'DELAWARE', 'DC': 'DISTRICT OF COLUMBIA', 'FL': 'FLORIDA',\n",
    "    'GA': 'GEORGIA', 'HI': 'HAWAII', 'ID': 'IDAHO', 'IL': 'ILLINOIS', 'IA': 'IOWA', 'IN': 'INDIANA', 'KS': 'KANSAS',\n",
    "    'KY': 'KENTUCKY', 'LA': 'LOUISIANA', 'ME': 'MAINE', 'MD': 'MARYLAND', 'MA': 'MASSACHUSETTS',\n",
    "    'MI': 'MICHIGAN', 'MN': 'MINNESOTA', 'MS': 'MISSISSIPI', 'MO': 'MISSOURI', 'MT': 'MONTANA', 'NE': 'NEBRASKA',\n",
    "    'NV': 'NEVADA', 'NH': 'NEW HAMPSHIRE', 'NJ': 'NEW JERSEY', 'NM': 'NEW MEXICO', 'NY': 'NEW YORK',\n",
    "    'NC': 'NORTH CAROLINA', 'ND': 'NORTH DAKOTA', 'OH': 'OHIO', 'OK': 'OKLAHOMA', 'OR': 'OREGON',\n",
    "    'PA': 'PENNSYLVANIA', 'PR': 'PUERTO RICO', 'RI': 'RHODE ISLAND', 'SC': 'SOUTH CAROLINA', 'SD': 'SOUTH DAKOTA',\n",
    "    'TN': 'TENNESSEE', 'TX': 'TEXAS', 'UT': 'UTAH', 'VT': 'VERMONT', 'VA': 'VIRGINIA', 'WA': 'WASHINGTON',\n",
    "    'WV': 'WEST VIRGINIA', 'WI': 'WISCONSIN', 'WY': 'WYOMING'\n",
    "}"
   ]
  },
  {
   "cell_type": "code",
   "execution_count": 2,
   "metadata": {},
   "outputs": [],
   "source": [
    "df = pd.read_csv('Final_cleaned_data_2.csv', lineterminator='\\n')\n",
    "df.drop('Unnamed: 0', axis=1, inplace=True)"
   ]
  },
  {
   "cell_type": "code",
   "execution_count": 3,
   "metadata": {},
   "outputs": [
    {
     "data": {
      "text/html": [
       "<div>\n",
       "<style scoped>\n",
       "    .dataframe tbody tr th:only-of-type {\n",
       "        vertical-align: middle;\n",
       "    }\n",
       "\n",
       "    .dataframe tbody tr th {\n",
       "        vertical-align: top;\n",
       "    }\n",
       "\n",
       "    .dataframe thead th {\n",
       "        text-align: right;\n",
       "    }\n",
       "</style>\n",
       "<table border=\"1\" class=\"dataframe\">\n",
       "  <thead>\n",
       "    <tr style=\"text-align: right;\">\n",
       "      <th></th>\n",
       "      <th>brand</th>\n",
       "      <th>model</th>\n",
       "      <th>rating</th>\n",
       "      <th>review</th>\n",
       "      <th>review_date</th>\n",
       "      <th>review_location</th>\n",
       "      <th>reviewer_name</th>\n",
       "      <th>trial_nights</th>\n",
       "      <th>warranty_years</th>\n",
       "    </tr>\n",
       "  </thead>\n",
       "  <tbody>\n",
       "    <tr>\n",
       "      <th>0</th>\n",
       "      <td>purple</td>\n",
       "      <td>The Purple Mattress</td>\n",
       "      <td>5.0</td>\n",
       "      <td>I am a hard worker with way more to physically...</td>\n",
       "      <td>2021-02-22</td>\n",
       "      <td>United States</td>\n",
       "      <td>Jessica G.</td>\n",
       "      <td>100.0</td>\n",
       "      <td>10.0</td>\n",
       "    </tr>\n",
       "    <tr>\n",
       "      <th>1</th>\n",
       "      <td>purple</td>\n",
       "      <td>The Purple Mattress</td>\n",
       "      <td>5.0</td>\n",
       "      <td>First off I am a disabled veteran with insomni...</td>\n",
       "      <td>2017-09-19</td>\n",
       "      <td>Warrenton, Virginia</td>\n",
       "      <td>Jared B.</td>\n",
       "      <td>100.0</td>\n",
       "      <td>10.0</td>\n",
       "    </tr>\n",
       "    <tr>\n",
       "      <th>2</th>\n",
       "      <td>purple</td>\n",
       "      <td>The Purple Mattress</td>\n",
       "      <td>1.0</td>\n",
       "      <td>This mattress is well made and the process of ...</td>\n",
       "      <td>2021-03-05</td>\n",
       "      <td>United States</td>\n",
       "      <td>LeAnn M.</td>\n",
       "      <td>100.0</td>\n",
       "      <td>10.0</td>\n",
       "    </tr>\n",
       "    <tr>\n",
       "      <th>3</th>\n",
       "      <td>purple</td>\n",
       "      <td>The Purple Mattress</td>\n",
       "      <td>3.0</td>\n",
       "      <td>The regular twin foam mattress was marked as a...</td>\n",
       "      <td>2021-03-04</td>\n",
       "      <td>United States</td>\n",
       "      <td>Kathryn W.</td>\n",
       "      <td>100.0</td>\n",
       "      <td>10.0</td>\n",
       "    </tr>\n",
       "    <tr>\n",
       "      <th>4</th>\n",
       "      <td>purple</td>\n",
       "      <td>The Purple Mattress</td>\n",
       "      <td>4.0</td>\n",
       "      <td>We had a premium mattress for years (Sterns an...</td>\n",
       "      <td>2021-03-04</td>\n",
       "      <td>United States</td>\n",
       "      <td>Adam R.</td>\n",
       "      <td>100.0</td>\n",
       "      <td>10.0</td>\n",
       "    </tr>\n",
       "  </tbody>\n",
       "</table>\n",
       "</div>"
      ],
      "text/plain": [
       "    brand                model  rating  \\\n",
       "0  purple  The Purple Mattress     5.0   \n",
       "1  purple  The Purple Mattress     5.0   \n",
       "2  purple  The Purple Mattress     1.0   \n",
       "3  purple  The Purple Mattress     3.0   \n",
       "4  purple  The Purple Mattress     4.0   \n",
       "\n",
       "                                              review review_date  \\\n",
       "0  I am a hard worker with way more to physically...  2021-02-22   \n",
       "1  First off I am a disabled veteran with insomni...  2017-09-19   \n",
       "2  This mattress is well made and the process of ...  2021-03-05   \n",
       "3  The regular twin foam mattress was marked as a...  2021-03-04   \n",
       "4  We had a premium mattress for years (Sterns an...  2021-03-04   \n",
       "\n",
       "       review_location reviewer_name  trial_nights  warranty_years  \n",
       "0        United States    Jessica G.         100.0            10.0  \n",
       "1  Warrenton, Virginia      Jared B.         100.0            10.0  \n",
       "2        United States      LeAnn M.         100.0            10.0  \n",
       "3        United States    Kathryn W.         100.0            10.0  \n",
       "4        United States       Adam R.         100.0            10.0  "
      ]
     },
     "execution_count": 3,
     "metadata": {},
     "output_type": "execute_result"
    }
   ],
   "source": [
    "df.head()"
   ]
  },
  {
   "cell_type": "code",
   "execution_count": null,
   "metadata": {},
   "outputs": [],
   "source": []
  },
  {
   "cell_type": "code",
   "execution_count": 10,
   "metadata": {},
   "outputs": [
    {
     "data": {
      "text/plain": [
       " United States       5994\n",
       "  US                 1798\n",
       "  Undisclosed         502\n",
       "                      180\n",
       " Los Angeles           93\n",
       "                     ... \n",
       "Fort Worth, TX          1\n",
       " St Pete Beach          1\n",
       " San Rafael             1\n",
       " Port Orange FL         1\n",
       "  Glen Cove, NY         1\n",
       "Name: review_location, Length: 6595, dtype: int64"
      ]
     },
     "execution_count": 10,
     "metadata": {},
     "output_type": "execute_result"
    }
   ],
   "source": [
    "df.review_location.value_counts()"
   ]
  },
  {
   "cell_type": "code",
   "execution_count": null,
   "metadata": {},
   "outputs": [],
   "source": [
    "stopwords = stopwords.words('english')\n",
    "def preprocess_text(text, lemmatization=True, stemming=True):   \n",
    "    no_punctuation = [char for char in text if char not in string.punctuation]\n",
    "    no_punctuation = ''.join(no_punctuation)\n",
    "    words = [word for word in no_punctuation.split() if word.lower() not in stopwords]\n",
    "    \n",
    "    if lemmatization:\n",
    "        lemmatizer = WordNetLemmatizer()\n",
    "        words = [lemmatizer.lemmatize(word) for word in words]\n",
    "    \n",
    "    if stemming:\n",
    "        lancaster = LancasterStemmer()\n",
    "        words = [lancaster.stem(word) for word in words]\n",
    "        \n",
    "    return words"
   ]
  },
  {
   "cell_type": "code",
   "execution_count": null,
   "metadata": {},
   "outputs": [],
   "source": [
    "df['tokenized_text'] = [preprocess_text(text.lower(), True, False) for text in df['review']]"
   ]
  },
  {
   "cell_type": "markdown",
   "metadata": {},
   "source": [
    "## Count Vectorizers"
   ]
  },
  {
   "cell_type": "code",
   "execution_count": null,
   "metadata": {},
   "outputs": [],
   "source": [
    "from sklearn.feature_extraction.text import CountVectorizer\n",
    "from sklearn.feature_extraction.text import TfidfVectorizer"
   ]
  },
  {
   "cell_type": "code",
   "execution_count": null,
   "metadata": {},
   "outputs": [],
   "source": [
    "def word_counts(text, brand, most_frequent=True, total_words=10, n_grams=1, remove_stop_words=True):\n",
    "    if most_frequent:\n",
    "        if remove_stop_words:\n",
    "            count_vect = CountVectorizer(stop_words='english', ngram_range=(n_grams, n_grams), lowercase=True, \n",
    "                                         strip_accents='unicode', max_features=total_words)\n",
    "        else:\n",
    "            count_vect = CountVectorizer(ngram_range=(n_grams, n_grams), lowercase=True, \n",
    "                                         strip_accents='unicode', max_features=total_words)\n",
    "        \n",
    "        word_counts = count_vect.fit_transform(text)\n",
    "\n",
    "        feature_words = count_vect.get_feature_names()\n",
    "        feature_words = np.asarray(feature_words)\n",
    "\n",
    "        count_list = word_counts.toarray().sum(axis=0)\n",
    "\n",
    "        word_counts_df = pd.DataFrame([feature_words, count_list], index=['Words', 'Count'])\n",
    "        word_counts_df = word_counts_df.transpose()\n",
    "        word_counts_df.sort_values('Count', ascending=False, inplace=True)\n",
    "        word_counts_df['brand'] = brand\n",
    "\n",
    "    else:\n",
    "        tfidf = TfidfVectorizer(stop_words='english', lowercase=True, strip_accents='unicode')\n",
    "        word_counts = tfidf.fit_transform(text)\n",
    "        feature_words = tfidf.get_feature_names()\n",
    "        \n",
    "    \n",
    "    return word_counts_df"
   ]
  },
  {
   "cell_type": "code",
   "execution_count": null,
   "metadata": {},
   "outputs": [],
   "source": [
    "wc_df = pd.DataFrame()\n",
    "\n",
    "for brand in df['brand'].unique():\n",
    "    brand_df = df[df['brand'] == brand]\n",
    "    brand_reviews = [' '.join(brand_text) for brand_text in brand_df['tokenized_text']]\n",
    "    bwc_df = word_counts(brand_reviews, brand, True, 10, 1, True)\n",
    "    print(brand)\n",
    "    print(bwc_df)\n",
    "    print('\\n')\n",
    "    wc_df = wc_df.append(bwc_df)"
   ]
  },
  {
   "cell_type": "code",
   "execution_count": null,
   "metadata": {},
   "outputs": [],
   "source": [
    "plt.figure(figsize=(15, 5))\n",
    "g=sns.barplot(x='Words', y='Count', data=wc_df, hue='brand')\n",
    "g.set_xticklabels(g.get_xticklabels(), rotation=30)\n",
    "plt.title('Top 10 words count for each brand')\n",
    "plt.show()"
   ]
  },
  {
   "cell_type": "markdown",
   "metadata": {},
   "source": [
    "## Feature Engineering"
   ]
  },
  {
   "cell_type": "code",
   "execution_count": null,
   "metadata": {},
   "outputs": [],
   "source": []
  },
  {
   "cell_type": "code",
   "execution_count": null,
   "metadata": {},
   "outputs": [],
   "source": [
    "text_test = 'I am a side sleeper. That means I like to sleep on my side.'"
   ]
  },
  {
   "cell_type": "code",
   "execution_count": null,
   "metadata": {},
   "outputs": [],
   "source": [
    "# Let's try and create a column that contains info on what type of sleeper someone is (side-sleeper, back, stomach)\n",
    "side_sleeper_idx = []\n",
    "back_sleeper_idx = []\n",
    "stomach_sleeper_idx = []\n",
    "\n",
    "for index, row in df.iterrows():\n",
    "    side_sleepers = re.findall('(sleep on my side|side sleep)', row.review)\n",
    "    if len(side_sleepers) == 0:\n",
    "        side_sleepers = None\n",
    "    else:\n",
    "        side_sleeper_idx.append(index)\n",
    "        \n",
    "    back_sleepers = re.findall('(sleep on my back|back sleep)', row.review)\n",
    "    if len(back_sleepers) == 0:\n",
    "        back_sleepers = None\n",
    "    else:\n",
    "        back_sleeper_idx.append(index)\n",
    "        \n",
    "    stomach_sleepers = re.findall('(stomach|belly)', row.review)\n",
    "    if len(stomach_sleepers) == 0:\n",
    "        stomach_sleepers = None\n",
    "    else:\n",
    "        stomach_sleeper_idx.append(index)"
   ]
  },
  {
   "cell_type": "code",
   "execution_count": null,
   "metadata": {},
   "outputs": [],
   "source": [
    "for index in side_sleeper_idx:\n",
    "    df.loc[index, 'side_sleeper'] = 1\n",
    "\n",
    "for index in back_sleeper_idx:\n",
    "    df.loc[index, 'back_sleeper'] = 1\n",
    "    \n",
    "for index in stomach_sleeper_idx:\n",
    "    df.loc[index, 'stomach_sleeper'] = 1"
   ]
  },
  {
   "cell_type": "code",
   "execution_count": null,
   "metadata": {},
   "outputs": [],
   "source": [
    "df['side_sleeper'] = df['side_sleeper'].apply(lambda x: 0 if x != 1 else x)\n",
    "df['back_sleeper'] = df['back_sleeper'].apply(lambda x: 0 if x != 1 else x)\n",
    "df['stomach_sleeper'] = df['stomach_sleeper'].apply(lambda x: 0 if x != 1 else x)"
   ]
  },
  {
   "cell_type": "code",
   "execution_count": null,
   "metadata": {},
   "outputs": [],
   "source": [
    "side_sleepers = df[df['side_sleeper'] == 1]\n",
    "back_sleepers = df[df['back_sleeper'] == 1]\n",
    "stomach_sleepers = df[df['stomach_sleeper'] == 1]\n",
    "\n",
    "plt.figure(figsize=(20, 5))\n",
    "plt.subplot(1, 3, 1)\n",
    "sns.countplot(x='side_sleeper', hue='brand', data=side_sleepers)\n",
    "plt.title('Side Sleepers by Brand')\n",
    "\n",
    "plt.subplot(1, 3, 2)\n",
    "sns.countplot(x='back_sleeper', hue='brand', data=back_sleepers)\n",
    "plt.title('Back Sleepers by Brand')\n",
    "\n",
    "plt.subplot(1, 3, 3)\n",
    "sns.countplot(x='stomach_sleeper', hue='brand', data=stomach_sleepers)\n",
    "plt.title('Stomach Sleepers by Brand')\n",
    "\n",
    "plt.show()"
   ]
  },
  {
   "cell_type": "code",
   "execution_count": null,
   "metadata": {},
   "outputs": [],
   "source": [
    "# Plotting the sleepers by mattress model\n",
    "\n",
    "plt.figure(figsize=(15, 20))\n",
    "\n",
    "plt.subplot(3, 1, 1)\n",
    "sns.countplot(x='side_sleeper', hue='model', data=side_sleepers, palette='Paired')\n",
    "plt.legend(bbox_to_anchor=(1.01, 1),borderaxespad=0)\n",
    "plt.title('Side Sleeper Count per Mattress Model')\n",
    "\n",
    "plt.subplot(3, 1, 2)\n",
    "sns.countplot(x='back_sleeper', hue='model', data=back_sleepers, palette='Paired')\n",
    "plt.legend(bbox_to_anchor=(1.01, 1),borderaxespad=0)\n",
    "plt.title('Back Sleeper Count per Mattress Model')\n",
    "\n",
    "plt.subplot(3, 1, 3)\n",
    "sns.countplot(x='stomach_sleeper', hue='model', data=stomach_sleepers, palette='Paired')\n",
    "plt.legend(bbox_to_anchor=(1.01, 1),borderaxespad=0)\n",
    "plt.title('Stomach Sleeper Count per Mattress Model')\n",
    "\n",
    "plt.show()"
   ]
  },
  {
   "cell_type": "code",
   "execution_count": null,
   "metadata": {},
   "outputs": [],
   "source": [
    "# Calculating polarity scores for each review for side sleepers\n",
    "side_sleepers['polarity'] = side_sleepers['review'].apply(lambda x: TextBlob(x).sentiment.polarity)\n",
    "\n",
    "# Calculating polarity scores for each review for back sleepers\n",
    "back_sleepers['polarity'] = back_sleepers['review'].apply(lambda x: TextBlob(x).sentiment.polarity)\n",
    "\n",
    "# Calculating polarity scores for each review for stomach sleepers\n",
    "stomach_sleepers['polarity'] = stomach_sleepers['review'].apply(lambda x: TextBlob(x).sentiment.polarity)"
   ]
  },
  {
   "cell_type": "code",
   "execution_count": null,
   "metadata": {},
   "outputs": [],
   "source": [
    "# Calculating the mean average for polarity scores for side sleepers grouped by brand\n",
    "avg_ss_brand_polarity = side_sleepers.groupby('brand').mean().polarity.reset_index()\n",
    "\n",
    "# Calculating the mean average for polarity scores for side sleepers grouped by model\n",
    "avg_ss_model_polarity = side_sleepers.groupby('model').mean().polarity.reset_index()"
   ]
  },
  {
   "cell_type": "code",
   "execution_count": null,
   "metadata": {},
   "outputs": [],
   "source": [
    "plt.figure(figsize=(20, 5))\n",
    "plt.subplot(1,2,1)\n",
    "sns.barplot(x='brand', y='polarity', data=avg_ss_brand_polarity)\n",
    "plt.title('Average Polarity Score for Side Sleepers per Mattress Brand')\n",
    "\n",
    "plt.subplot(1,2,2)\n",
    "g = sns.barplot(x='model', y='polarity', data=avg_ss_model_polarity)\n",
    "g.set_xticklabels(g.get_xticklabels(), rotation=90)\n",
    "plt.title('Average Polarity Score for Side Sleepers per Mattress model')\n",
    "plt.show()"
   ]
  },
  {
   "cell_type": "code",
   "execution_count": null,
   "metadata": {},
   "outputs": [],
   "source": [
    "# Calculating the mean average for polarity scores for back sleepers grouped by brand\n",
    "avg_bs_brand_polarity = back_sleepers.groupby('brand').mean().polarity.reset_index()\n",
    "\n",
    "# Calculating the mean average for polarity scores for back sleepers grouped by model\n",
    "avg_bs_model_polarity = back_sleepers.groupby('model').mean().polarity.reset_index()"
   ]
  },
  {
   "cell_type": "code",
   "execution_count": null,
   "metadata": {},
   "outputs": [],
   "source": [
    "plt.figure(figsize=(20, 5))\n",
    "plt.subplot(1,2,1)\n",
    "sns.barplot(x='brand', y='polarity', data=avg_bs_brand_polarity)\n",
    "plt.title('Average Polarity Score for Back Sleepers per Mattress Brand')\n",
    "\n",
    "plt.subplot(1,2,2)\n",
    "g = sns.barplot(x='model', y='polarity', data=avg_bs_model_polarity)\n",
    "g.set_xticklabels(g.get_xticklabels(), rotation=90)\n",
    "plt.title('Average Polarity Score for Back Sleepers per Mattress model')\n",
    "plt.show()"
   ]
  },
  {
   "cell_type": "code",
   "execution_count": null,
   "metadata": {},
   "outputs": [],
   "source": [
    "# Calculating the mean average for polarity scores for stomach sleepers grouped by brand\n",
    "avg_stomach_brand_polarity = stomach_sleepers.groupby('brand').mean().polarity.reset_index()\n",
    "\n",
    "# Calculating the mean average for polarity scores for stomach sleepers grouped by model\n",
    "avg_stomach_model_polarity = stomach_sleepers.groupby('model').mean().polarity.reset_index()"
   ]
  },
  {
   "cell_type": "code",
   "execution_count": null,
   "metadata": {},
   "outputs": [],
   "source": [
    "plt.figure(figsize=(20, 5))\n",
    "plt.subplot(1,2,1)\n",
    "sns.barplot(x='brand', y='polarity', data=avg_stomach_brand_polarity)\n",
    "plt.title('Average Polarity Score for Back Sleepers per Mattress Brand')\n",
    "\n",
    "plt.subplot(1,2,2)\n",
    "g = sns.barplot(x='model', y='polarity', data=avg_stomach_model_polarity)\n",
    "g.set_xticklabels(g.get_xticklabels(), rotation=90)\n",
    "plt.title('Average Polarity Score for Back Sleepers per Mattress model')\n",
    "plt.show()"
   ]
  },
  {
   "cell_type": "code",
   "execution_count": null,
   "metadata": {},
   "outputs": [],
   "source": [
    "# Calculating the mean average for polarity scores for all sleepers grouped by brand\n",
    "avg_brand_polarity = df.groupby('brand').mean().polarity.reset_index()\n",
    "\n",
    "# Calculating the mean average for polarity scores for all sleepers grouped by model\n",
    "avg_model_polarity = df.groupby('model').mean().polarity.reset_index()"
   ]
  },
  {
   "cell_type": "code",
   "execution_count": null,
   "metadata": {},
   "outputs": [],
   "source": [
    "plt.figure(figsize=(20, 5))\n",
    "plt.subplot(1,2,1)\n",
    "sns.barplot(x='brand', y='polarity', data=avg_brand_polarity)\n",
    "plt.title('Average Polarity Score for All Sleepers per Mattress Brand')\n",
    "\n",
    "plt.subplot(1,2,2)\n",
    "g = sns.barplot(x='model', y='polarity', data=avg_model_polarity)\n",
    "g.set_xticklabels(g.get_xticklabels(), rotation=90)\n",
    "plt.title('Average Polarity Score for All Sleepers per Mattress model')\n",
    "plt.show()"
   ]
  },
  {
   "cell_type": "markdown",
   "metadata": {},
   "source": [
    "## Parsing the Reviews"
   ]
  },
  {
   "cell_type": "code",
   "execution_count": null,
   "metadata": {},
   "outputs": [],
   "source": [
    "# Chunking Noun Phrases\n",
    "\n",
    "chunk_grammar = 'NP: {<DT>?<JJ>*<NN>}'\n",
    "chunk_parser = nltk.RegexpParser(chunk_grammar)"
   ]
  },
  {
   "cell_type": "code",
   "execution_count": null,
   "metadata": {},
   "outputs": [],
   "source": [
    "for brand in df['brand'].unique():\n",
    "    print(brand)\n",
    "    for review in df[df['brand']==brand]['review']:\n",
    "        sentence_list = review.split()\n",
    "        sentence_pos_tag = nltk.pos_tag(sentence_list)\n",
    "        chunked = chunk_parser.parse(sentence_pos_tag)\n",
    "        print(chunked)"
   ]
  },
  {
   "cell_type": "code",
   "execution_count": null,
   "metadata": {},
   "outputs": [],
   "source": [
    "# Calculating polarity scores for each review\n",
    "df['polarity'] = df['review'].apply(lambda x: TextBlob(x).sentiment.polarity)\n",
    "\n",
    "# Calculating length of each review\n",
    "df['review_length'] = df['review'].apply(lambda x: len(x))\n",
    "\n",
    "# Calculating word count for each review\n",
    "df['review_word_count'] = df['review'].apply(lambda x: len(x.split()))\n"
   ]
  },
  {
   "cell_type": "code",
   "execution_count": null,
   "metadata": {},
   "outputs": [],
   "source": [
    "# Checking to see if polairty for most positive reviews are correct for 5 samples\n",
    "print('5 reviews with the highest polarity: \\n')\n",
    "hp = df.loc[df['polarity'] == 1, 'review'].sample(5).values\n",
    "for r in hp:\n",
    "    print(r)"
   ]
  },
  {
   "cell_type": "code",
   "execution_count": null,
   "metadata": {},
   "outputs": [],
   "source": [
    "print('5 reviews with the neutral polarity: \\n')\n",
    "np = df.loc[df['polarity'] == 0, 'review'].sample(5).values\n",
    "\n",
    "for r in np:\n",
    "    print(r)"
   ]
  },
  {
   "cell_type": "code",
   "execution_count": null,
   "metadata": {},
   "outputs": [],
   "source": [
    "print('5 reviews with the negative polarity: \\n')\n",
    "lp = df.loc[df['polarity'] <= -.5, 'review'].sample(5).values\n",
    "\n",
    "for r in lp:\n",
    "    print(r)"
   ]
  },
  {
   "cell_type": "code",
   "execution_count": null,
   "metadata": {},
   "outputs": [],
   "source": [
    "# Plotting distribution of Polarity scores\n",
    "plt.figure(figsize=(10, 5))\n",
    "sns.distplot(df['polarity'], kde=False)\n",
    "plt.title('Distribution of Polarity Scores')\n",
    "plt.axvline(df['polarity'].mean(), ls='--', c='r', label='mean')\n",
    "plt.axvline(df['polarity'].median(), c='black', label='median')\n",
    "plt.ylabel('Count')\n",
    "plt.legend()\n",
    "plt.show()"
   ]
  },
  {
   "cell_type": "markdown",
   "metadata": {},
   "source": [
    "Most of the sentiment scores are above 0, which indicates that a majority of the reviews are positive."
   ]
  },
  {
   "cell_type": "code",
   "execution_count": null,
   "metadata": {},
   "outputs": [],
   "source": [
    "# Checking the distribution of the ratings of the matresses\n",
    "plt.figure(figsize=(10, 5))\n",
    "sns.countplot(x='rating', data=df)\n",
    "plt.title('Distribution of Mattress Ratings')\n",
    "plt.show()"
   ]
  },
  {
   "cell_type": "markdown",
   "metadata": {},
   "source": [
    "The distribution of the ratings show that a majority of people rated the mattresses very highly. That falls in line with a majority of the reviews being positive."
   ]
  },
  {
   "cell_type": "code",
   "execution_count": null,
   "metadata": {},
   "outputs": [],
   "source": [
    "# Plotting the distribution of review lengths\n",
    "plt.figure(figsize=(10, 5))\n",
    "sns.distplot(df['review_length'], kde=False, color='red')\n",
    "plt.title('Review Lengths')\n",
    "plt.show()"
   ]
  },
  {
   "cell_type": "code",
   "execution_count": null,
   "metadata": {},
   "outputs": [],
   "source": [
    "# It looks like the distribution of review lengths is log-normally distributed, or exponentially distributed. \n",
    "# To test for this I will plot a Normal Probability plot with a standard normal distribution vs. the log distribution\n",
    "# of review lengths on the left, and the distribution vs. the CCDF of the distribution on the right\n",
    "import numpy as np\n",
    "from scipy.stats import norm\n",
    "rv = norm.rvs(size=len(df))\n",
    "\n",
    "plt.figure(figsize=(15, 5))\n",
    "plt.subplot(1, 2, 1)\n",
    "plt.plot(sorted(rv), sorted(np.log(df['review_length'])))\n",
    "plt.xlabel('Standard Normal Values')\n",
    "plt.ylabel('Log of Review Lengths')\n",
    "plt.title('Normal Probability Plot of Log of Review Lengths')\n",
    "\n",
    "plt.subplot(1, 2, 2)\n",
    "sorted_values = sorted(df['review_length'])\n",
    "cdf_y = np.linspace(0, 1, len(sorted_values))\n",
    "ccdf = [1 - value for value in cdf_y]\n",
    "plt.plot(sorted_values, np.log(ccdf))\n",
    "plt.title('Complimentary CDF')\n",
    "plt.xlabel('Review Lengths')\n",
    "plt.ylabel('Log-CCDF')\n",
    "plt.show()"
   ]
  },
  {
   "cell_type": "markdown",
   "metadata": {},
   "source": [
    "It looks like it can be argued that the review length distribution would loosely fit a log-normal distribution, or an exponential distribution, but visually it looks as though the log-normal distribution is a better fit."
   ]
  },
  {
   "cell_type": "code",
   "execution_count": null,
   "metadata": {},
   "outputs": [],
   "source": [
    "# Plotting Word count distributions\n",
    "plt.figure(figsize=(10, 5))\n",
    "sns.distplot(df['review_word_count'], kde=False)"
   ]
  },
  {
   "cell_type": "code",
   "execution_count": null,
   "metadata": {},
   "outputs": [],
   "source": [
    "# Plotting out Warranty Years for each brand, and Trial nights for each brand\n",
    "\n",
    "plt.figure(figsize=(15, 5))\n",
    "plt.subplot(1, 2, 1)\n",
    "sns.barplot(x='brand', y='warranty_years', data=df)\n",
    "plt.title('Warranty Years per Brand')\n",
    "\n",
    "plt.subplot(1, 2, 2)\n",
    "sns.barplot(x='brand', y='trial_nights', data=df)\n",
    "plt.title('Trial Nights per Brand')\n",
    "\n",
    "plt.show()"
   ]
  },
  {
   "cell_type": "code",
   "execution_count": null,
   "metadata": {},
   "outputs": [],
   "source": [
    "import psycopg2\n",
    "conn = psycopg2.connect('dbname=Mattresses')\n",
    "cur = conn.cursor()\n",
    "sql = 'SELECT * FROM mattressinfo'"
   ]
  },
  {
   "cell_type": "code",
   "execution_count": null,
   "metadata": {},
   "outputs": [],
   "source": [
    "df.loc[(df['brand'] == 'Sealy') & (df['model'] == 'Chill Memory Foam Mattress'), 'model'] = 'Cocoon Chill'"
   ]
  },
  {
   "cell_type": "code",
   "execution_count": null,
   "metadata": {},
   "outputs": [],
   "source": [
    "mattress_info_df = pd.read_sql_query(sql, conn)"
   ]
  },
  {
   "cell_type": "code",
   "execution_count": null,
   "metadata": {},
   "outputs": [],
   "source": [
    "df['brand'] = df['brand'].apply(lambda x: x.title())"
   ]
  },
  {
   "cell_type": "code",
   "execution_count": null,
   "metadata": {},
   "outputs": [],
   "source": [
    "df = df.merge(mattress_info_df, on=['brand', 'model'], how='left')"
   ]
  },
  {
   "cell_type": "code",
   "execution_count": null,
   "metadata": {},
   "outputs": [],
   "source": [
    "# Plotting out warranty vs. price per brand\n",
    "plt.figure(figsize=(15, 5))\n",
    "plt.subplot(1, 2, 1)\n",
    "sns.scatterplot(x='warranty_years', y='price', hue='brand', data=df)\n",
    "plt.title('Warranty vs. Price per Brand')\n",
    "\n",
    "# Plotting out trial vs. price per brand\n",
    "\n",
    "plt.subplot(1, 2, 2)\n",
    "sns.scatterplot(x='trial_nights', y='price', hue='brand', data=df)\n",
    "plt.title('Trial Nights per Brand')\n",
    "\n",
    "plt.show()"
   ]
  },
  {
   "cell_type": "code",
   "execution_count": 9,
   "metadata": {},
   "outputs": [],
   "source": [
    "df_for_locations = df.copy()\n",
    "\n",
    "df_for_locations.dropna(subset=['review_location'], axis=0, inplace=True)\n",
    "\n",
    "df_for_locations['review_location'] = df_for_locations['review_location'].\\\n",
    "                                        apply(lambda x: x.split(',')[1] if ',' in x else x)\n",
    "\n",
    "for key in states_abbreviation.keys():\n",
    "    df_for_locations['review_location'] = df_for_locations['review_location'].\\\n",
    "                                        apply(lambda x: states_abbreviation[key] if key in x.upper() else x)\n",
    "    \n",
    "for key, value in states_abbreviation.items():\n",
    "df_for_locations['review_location'] = df_for_locations['review_location'].\\\n",
    "                                    apply(lambda x: value if value in x.upper() else x)\n",
    "    \n",
    "df_for_locations['id'] = df_for_locations['review_location'].apply(lambda x:\n",
    "                                                    state_id_map[x.title()] if x.title() in state_id_map\n",
    "                                                                  else np.nan)"
   ]
  },
  {
   "cell_type": "code",
   "execution_count": null,
   "metadata": {},
   "outputs": [],
   "source": [
    "state_id_map = {}\n",
    "for feature in geo_json['features']:\n",
    "    feature['id'] = feature['properties']['STATE']\n",
    "    state_id_map[feature['properties']['NAME']] = feature['id']"
   ]
  },
  {
   "cell_type": "code",
   "execution_count": null,
   "metadata": {},
   "outputs": [],
   "source": [
    "df_for_locations['id'].isna().sum()"
   ]
  },
  {
   "cell_type": "code",
   "execution_count": null,
   "metadata": {},
   "outputs": [],
   "source": [
    "df_for_locations.dropna(subset=['id'], inplace=True)"
   ]
  },
  {
   "cell_type": "code",
   "execution_count": null,
   "metadata": {},
   "outputs": [],
   "source": [
    "location_counts = df_for_locations.groupby(['review_location', 'id']).review.count().reset_index()\n",
    "\n",
    "location_counts.rename(columns={'review': 'counts'}, inplace=True)\n",
    "\n",
    "location_counts['count_scaled'] = np.log(location_counts.counts)\n",
    "\n",
    "location_counts.head()"
   ]
  },
  {
   "cell_type": "code",
   "execution_count": null,
   "metadata": {},
   "outputs": [],
   "source": [
    "fig = px.choropleth(location_counts, locations='id', geojson=geo_json, color='count_scaled',\n",
    "                    scope='usa', hover_name='review_location', hover_data=['counts'])\n",
    "fig.show()"
   ]
  },
  {
   "cell_type": "code",
   "execution_count": null,
   "metadata": {},
   "outputs": [],
   "source": [
    "# Plot out location of most reviewers on a map\n",
    "\n",
    "import plotly.express as px\n",
    "\n",
    "fig = px.choropleth_mapbox(df, geojson=counties, locations='fips', color='unemp',\n",
    "                           color_continuous_scale=\"Viridis\",\n",
    "                           range_color=(0, 12),\n",
    "                           mapbox_style=\"carto-positron\",\n",
    "                           zoom=3, center = {\"lat\": 37.0902, \"lon\": -95.7129},\n",
    "                           opacity=0.5,\n",
    "                           labels={'unemp':'unemployment rate'}\n",
    "                          )\n",
    "fig.update_layout(margin={\"r\":0,\"t\":0,\"l\":0,\"b\":0})\n",
    "fig.show()"
   ]
  },
  {
   "cell_type": "markdown",
   "metadata": {},
   "source": [
    "## Text EDA"
   ]
  },
  {
   "cell_type": "markdown",
   "metadata": {},
   "source": [
    "### Top 10 Unigram Words per Brand including Stopwords"
   ]
  },
  {
   "cell_type": "code",
   "execution_count": null,
   "metadata": {},
   "outputs": [],
   "source": [
    "# Plotting out top unigrams before removing stopwords\n",
    "\n",
    "plt.figure(figsize=(20, 10))\n",
    "\n",
    "for i, brand in enumerate(df['brand'].unique(), start=1):\n",
    "    plt.subplot(2, 3, i)\n",
    "    brand_top_review_words = word_counts(df.loc[df['brand'] == brand, 'review'], brand, True, 10, 1, False)\n",
    "    sns.barplot(x='Words', y='Count', data=brand_top_review_words)\n",
    "    plt.title('{} Mattress top 10 Unigram words including Stopwords'.format(brand.title()))"
   ]
  },
  {
   "cell_type": "markdown",
   "metadata": {},
   "source": [
    "### Top 10 Unigram Words per Brand not including Stopwords"
   ]
  },
  {
   "cell_type": "code",
   "execution_count": null,
   "metadata": {},
   "outputs": [],
   "source": [
    "plt.figure(figsize=(20, 10))\n",
    "\n",
    "for i, brand in enumerate(df['brand'].unique(), start=1):\n",
    "    plt.subplot(2, 3, i)\n",
    "    brand_top_review_words = word_counts(df.loc[df['brand'] == brand, 'review'], brand, True, 10, 1, True)\n",
    "    g = sns.barplot(x='Words', y='Count', data=brand_top_review_words)\n",
    "    g.set_xticklabels(g.get_xticklabels(), rotation=45)\n",
    "    plt.subplots_adjust(hspace=0.5)\n",
    "    plt.title('{} Mattress top 10 Unigram words including Stopwords'.format(brand.title()))"
   ]
  },
  {
   "cell_type": "markdown",
   "metadata": {},
   "source": [
    "### Top 10 Bigram Words per Brand including Stopwords"
   ]
  },
  {
   "cell_type": "code",
   "execution_count": null,
   "metadata": {},
   "outputs": [],
   "source": [
    "plt.figure(figsize=(20, 10))\n",
    "\n",
    "for i, brand in enumerate(df['brand'].unique(), start=1):\n",
    "    plt.subplot(2, 3, i)\n",
    "    brand_top_review_words = word_counts(df.loc[df['brand'] == brand, 'review'], brand, True, 10, 2, False)\n",
    "    g = sns.barplot(x='Words', y='Count', data=brand_top_review_words)\n",
    "    g.set_xticklabels(g.get_xticklabels(), rotation=45)\n",
    "    plt.subplots_adjust(hspace=0.5)\n",
    "    plt.title('{} Mattress top 10 Bigram words including Stopwords'.format(brand.title()))"
   ]
  },
  {
   "cell_type": "markdown",
   "metadata": {},
   "source": [
    "### Top 10 Bigram Words per Brand not including Stopwords"
   ]
  },
  {
   "cell_type": "code",
   "execution_count": null,
   "metadata": {},
   "outputs": [],
   "source": [
    "plt.figure(figsize=(20, 10))\n",
    "\n",
    "for i, brand in enumerate(df['brand'].unique(), start=1):\n",
    "    plt.subplot(2, 3, i)\n",
    "    brand_top_review_words = word_counts(df.loc[df['brand'] == brand, 'review'], brand, True, 10, 2, True)\n",
    "    g = sns.barplot(x='Words', y='Count', data=brand_top_review_words)\n",
    "    g.set_xticklabels(g.get_xticklabels(), rotation=90)\n",
    "    plt.subplots_adjust(hspace=0.9)\n",
    "    plt.title('{} Mattress top 10 Bigram words including Stopwords'.format(brand.title()))"
   ]
  },
  {
   "cell_type": "markdown",
   "metadata": {},
   "source": [
    "### Top 10 Trigram Words per Brand including Stopwords"
   ]
  },
  {
   "cell_type": "code",
   "execution_count": null,
   "metadata": {},
   "outputs": [],
   "source": [
    "plt.figure(figsize=(20, 10))\n",
    "\n",
    "for i, brand in enumerate(df['brand'].unique(), start=1):\n",
    "    plt.subplot(2, 3, i)\n",
    "    brand_top_review_words = word_counts(df.loc[df['brand'] == brand, 'review'], brand, True, 10, 3, False)\n",
    "    g = sns.barplot(x='Words', y='Count', data=brand_top_review_words)\n",
    "    g.set_xticklabels(g.get_xticklabels(), rotation=75)\n",
    "    plt.subplots_adjust(hspace=0.9)\n",
    "    plt.title('{} Mattress top 10 Trigram words including Stopwords'.format(brand.title()))"
   ]
  },
  {
   "cell_type": "markdown",
   "metadata": {},
   "source": [
    "### Top 10 Trigram Words per Brand not including Stopwords"
   ]
  },
  {
   "cell_type": "code",
   "execution_count": null,
   "metadata": {},
   "outputs": [],
   "source": [
    "plt.figure(figsize=(20, 10))\n",
    "\n",
    "for i, brand in enumerate(df['brand'].unique(), start=1):\n",
    "    plt.subplot(2, 3, i)\n",
    "    brand_top_review_words = word_counts(df.loc[df['brand'] == brand, 'review'], brand, True, 10, 3, True)\n",
    "    g = sns.barplot(x='Words', y='Count', data=brand_top_review_words)\n",
    "    g.set_xticklabels(g.get_xticklabels(), rotation=75)\n",
    "    plt.subplots_adjust(hspace=0.9)\n",
    "    plt.title('{} Mattress top 10 Trigram words including Stopwords'.format(brand.title()))"
   ]
  },
  {
   "cell_type": "markdown",
   "metadata": {},
   "source": [
    "# Part of Speech Tagging"
   ]
  },
  {
   "cell_type": "code",
   "execution_count": null,
   "metadata": {},
   "outputs": [],
   "source": [
    "plt.figure(figsize=(20, 10))\n",
    "for i, brand in enumerate(df['brand'].unique(), start=1):\n",
    "    plt.subplot(2, 3, i)\n",
    "    \n",
    "    pos_blob = TextBlob(str(df.loc[df['brand'] == brand, 'review']))\n",
    "    pos_df = pd.DataFrame(pos_blob.tags, columns=['word', 'pos'])\n",
    "    pos_df = pd.DataFrame(pos_df.pos.value_counts()[:20], columns=['pos']).rename(columns={'pos': 'count'})\n",
    "    g=sns.barplot(x=pos_df.index, y='count', data=pos_df)\n",
    "    g.set_xticklabels(g.get_xticklabels(), rotation=45)\n",
    "    plt.title('{} Matress Review Part of Speech Frequency'.format(brand.title()))"
   ]
  },
  {
   "cell_type": "code",
   "execution_count": null,
   "metadata": {},
   "outputs": [],
   "source": [
    "# Plot boxplots to look at all brands distirbutions of rating, polarity, review length, review word count\n",
    "# Looking at boxplots for the polarity for each brand\n",
    "plt.figure(figsize=(10, 5))\n",
    "sns.boxplot(df['polarity'], y=df['brand'])\n",
    "plt.title('Boxplots of Review Polarity per Brand')\n",
    "plt.show()"
   ]
  },
  {
   "cell_type": "code",
   "execution_count": null,
   "metadata": {},
   "outputs": [],
   "source": [
    "# Looking at boxplots for the ratings for each brand\n",
    "plt.figure(figsize=(10, 5))\n",
    "sns.boxplot(df['rating'], y=df['brand'])\n",
    "plt.title('Boxplots of Review Ratings per Brand')\n",
    "plt.show()"
   ]
  },
  {
   "cell_type": "code",
   "execution_count": null,
   "metadata": {},
   "outputs": [],
   "source": [
    "# Looking at boxplots for the review lengths for each brand\n",
    "plt.figure(figsize=(10, 5))\n",
    "sns.boxplot(df['review_length'], y=df['brand'])\n",
    "plt.title('Boxplots of Review Ratings per Brand')\n",
    "plt.show()"
   ]
  },
  {
   "cell_type": "code",
   "execution_count": null,
   "metadata": {},
   "outputs": [],
   "source": [
    "# Looking at boxplots for the review lengths for each brand\n",
    "plt.figure(figsize=(10, 5))\n",
    "sns.boxplot(df['review_word_count'], y=df['brand'])\n",
    "plt.title('Boxplots of Review Ratings per Brand')\n",
    "plt.show()"
   ]
  },
  {
   "cell_type": "code",
   "execution_count": null,
   "metadata": {},
   "outputs": [],
   "source": [
    "df.head()"
   ]
  },
  {
   "cell_type": "code",
   "execution_count": null,
   "metadata": {},
   "outputs": [],
   "source": []
  }
 ],
 "metadata": {
  "kernelspec": {
   "display_name": "Python 3",
   "language": "python",
   "name": "python3"
  },
  "language_info": {
   "codemirror_mode": {
    "name": "ipython",
    "version": 3
   },
   "file_extension": ".py",
   "mimetype": "text/x-python",
   "name": "python",
   "nbconvert_exporter": "python",
   "pygments_lexer": "ipython3",
   "version": "3.8.0"
  }
 },
 "nbformat": 4,
 "nbformat_minor": 2
}
